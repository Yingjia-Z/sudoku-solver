{
 "cells": [
  {
   "cell_type": "code",
   "execution_count": 1,
   "id": "9e46dc8b",
   "metadata": {},
   "outputs": [],
   "source": [
    "import tabula\n",
    "import numpy as np"
   ]
  },
  {
   "cell_type": "code",
   "execution_count": 2,
   "id": "3ebfa46e",
   "metadata": {},
   "outputs": [],
   "source": [
    "# read sudoku infomation from pdf and print to 2D array\n",
    "def read_sudoku_table(pdf_file_path):\n",
    "    table = tabula.read_pdf(pdf_file_path, pages=1)\n",
    "    table = table[0]\n",
    "    \n",
    "    cols = table.columns\n",
    "    \n",
    "    new_cols = []\n",
    "    for col in cols:\n",
    "        if 'Unnamed' in col:\n",
    "            new_cols.append(np.nan)\n",
    "        else:\n",
    "            new_cols.append(col)\n",
    "            \n",
    "    table.loc[-1] = new_cols\n",
    "    table.index = table.index + 1\n",
    "    table = table.sort_index()\n",
    "    \n",
    "    table.columns = np.arange(13)\n",
    "    \n",
    "    table = table[[1, 2, 3, 5, 6, 7, 9, 10, 11]]\n",
    "    \n",
    "    return table.to_numpy()"
   ]
  },
  {
   "cell_type": "code",
   "execution_count": null,
   "id": "3d3e966c-8387-4d68-8339-d1a3ec1020eb",
   "metadata": {},
   "outputs": [],
   "source": []
  }
 ],
 "metadata": {
  "kernelspec": {
   "display_name": "Python 3 (ipykernel)",
   "language": "python",
   "name": "python3"
  },
  "language_info": {
   "codemirror_mode": {
    "name": "ipython",
    "version": 3
   },
   "file_extension": ".py",
   "mimetype": "text/x-python",
   "name": "python",
   "nbconvert_exporter": "python",
   "pygments_lexer": "ipython3",
   "version": "3.11.5"
  }
 },
 "nbformat": 4,
 "nbformat_minor": 5
}
